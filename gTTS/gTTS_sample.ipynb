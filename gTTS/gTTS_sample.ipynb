{
 "cells": [
  {
   "cell_type": "code",
   "execution_count": 15,
   "id": "fc81acfe-520a-434c-94ea-90e4a2de8a1d",
   "metadata": {},
   "outputs": [
    {
     "name": "stdout",
     "output_type": "stream",
     "text": [
      "음성 파일이 생성되었습니다!\n"
     ]
    }
   ],
   "source": [
    "# !pip install gTTS\n",
    "from gtts import gTTS\n",
    "\n",
    "# 변환할 한글 텍스트\n",
    "text = \"안녕하세요. 오늘은 이순신 장군님에 대해 설명해보겠습니다.\"\n",
    "\n",
    "# TTS 객체 생성 (lang='ko'는 한국어)\n",
    "tts = gTTS(text=text, lang='ko')\n",
    "\n",
    "# mp3 파일로 저장\n",
    "tts.save(\"gTTS_korean_default.mp3\")\n",
    "\n",
    "print(\"음성 파일이 생성되었습니다!\")"
   ]
  },
  {
   "cell_type": "code",
   "execution_count": 19,
   "id": "80674d81-29be-498e-ba16-bd6a62648d4b",
   "metadata": {},
   "outputs": [
    {
     "name": "stdout",
     "output_type": "stream",
     "text": [
      "음성 파일이 생성되었습니다!\n"
     ]
    }
   ],
   "source": [
    "# gTTS는 hyper-parameter가 거의 없어서 조정할 수 있는 옵션이 매우 적음(특히 언어가 한국어면 사용할 수 있는 옵션이 더 적음)\n",
    "\n",
    "# slow 값이 True면 천천히 말함, False면 일반 속도(기본값 : False)\n",
    "tts = gTTS(text=\"안녕하세요.\", lang='ko', slow=True)\n",
    "tts.save(\"gTTS_korean_slow.mp3\")\n",
    "print(\"음성 파일이 생성되었습니다!\")"
   ]
  }
 ],
 "metadata": {
  "kernelspec": {
   "display_name": "Python [conda env:base] *",
   "language": "python",
   "name": "conda-base-py"
  },
  "language_info": {
   "codemirror_mode": {
    "name": "ipython",
    "version": 3
   },
   "file_extension": ".py",
   "mimetype": "text/x-python",
   "name": "python",
   "nbconvert_exporter": "python",
   "pygments_lexer": "ipython3",
   "version": "3.12.7"
  }
 },
 "nbformat": 4,
 "nbformat_minor": 5
}
